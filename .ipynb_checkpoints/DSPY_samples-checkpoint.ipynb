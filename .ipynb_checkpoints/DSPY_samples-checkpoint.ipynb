{
 "cells": [
  {
   "cell_type": "code",
   "execution_count": 1,
   "id": "0c052134-0ab7-4177-9f28-b7be9b37a565",
   "metadata": {},
   "outputs": [],
   "source": [
    "import os\n",
    "import dspy\n",
    "\n"
   ]
  },
  {
   "cell_type": "code",
   "execution_count": 2,
   "id": "9abcd6c2-5ac6-4bd2-a8c3-3aaacd245424",
   "metadata": {},
   "outputs": [],
   "source": [
    "import dspy\n",
    "lm = dspy.LM(\"openai/gpt-4o-mini\")\n",
    "dspy.configure(lm=lm)"
   ]
  },
  {
   "cell_type": "markdown",
   "id": "2e9b145c-db37-4170-876f-6f7fa78aaf43",
   "metadata": {},
   "source": [
    "BASIC USE, SIGNATURE (Prompt reduced to Programs)"
   ]
  },
  {
   "cell_type": "code",
   "execution_count": 3,
   "id": "125ba58c-cab6-45b9-af9c-12d532cc3449",
   "metadata": {},
   "outputs": [
    {
     "data": {
      "text/plain": [
       "False"
      ]
     },
     "execution_count": 3,
     "metadata": {},
     "output_type": "execute_result"
    }
   ],
   "source": [
    "dspy_signature=dspy.Signature(\n",
    "        \"comment -> toxic: bool\",\n",
    "        instructions=\"Mark as 'toxic' if the comment includes insults, harassment, or sarcastic derogatory remarks.\",\n",
    "    )\n",
    "toxicity = dspy.Predict(dspy_signature)\n",
    "\n",
    "comment = \"you are beautiful.\"\n",
    "toxicity(comment=comment).toxic"
   ]
  },
  {
   "cell_type": "code",
   "execution_count": 4,
   "id": "1d802f2a-922e-4b8a-b8e3-67697598afe1",
   "metadata": {},
   "outputs": [
    {
     "data": {
      "text/plain": [
       "True"
      ]
     },
     "execution_count": 4,
     "metadata": {},
     "output_type": "execute_result"
    }
   ],
   "source": [
    "dspy_signature=dspy.Signature(\n",
    "        \"comment -> toxic: bool\",\n",
    "        instructions=\"Mark as 'toxic' if the comment includes insults, harassment, or sarcastic derogatory remarks.\",\n",
    "    )\n",
    "toxicity = dspy.Predict(dspy_signature)\n",
    "\n",
    "comment = \"This guy is obnoxius and an idiot of galactic proportions\"\n",
    "toxicity(comment=comment).toxic"
   ]
  },
  {
   "cell_type": "markdown",
   "id": "6313e7bd-0b04-4e75-9af5-0dba0abd2ada",
   "metadata": {},
   "source": []
  },
  {
   "cell_type": "markdown",
   "id": "12e3d083-9bd6-4bc0-962d-f7496fc63367",
   "metadata": {},
   "source": [
    "BASIC USE CASE (PROMPT REDUCED TO  CONCISE CODES)"
   ]
  },
  {
   "cell_type": "code",
   "execution_count": 5,
   "id": "88ec008a-54b1-487e-8fa1-aaf0c8b9a612",
   "metadata": {},
   "outputs": [],
   "source": [
    "#WITHOUT DSPY\n",
    "from openai import OpenAI\n",
    "\n",
    "# Initialize client\n",
    "client = OpenAI()\n",
    "\n",
    "def get_sentiment(text: str):\n",
    "    prompt = f\"\"\"\n",
    "            Analyze the sentiment of the following text. \n",
    "            Return a JSON with fields: sentiment (positive/neutral/negative) and score (between 0 and 1).\n",
    "\n",
    "            Text: \"{text}\"\n",
    "            \"\"\"\n",
    "    response = client.chat.completions.create(\n",
    "        model=\"gpt-4o-mini\",\n",
    "        messages=[{\"role\": \"user\", \"content\": prompt}]\n",
    "    )\n",
    "\n",
    "    # Extract text and parse JSON safely\n",
    "    import json\n",
    "    output = response.choices[0].message.content.strip()\n",
    "    try:\n",
    "        result = json.loads(output)\n",
    "    except json.JSONDecodeError:\n",
    "        result = {\"sentiment\": \"unknown\", \"score\": 0.0, \"raw\": output}\n",
    "\n",
    "    return result"
   ]
  },
  {
   "cell_type": "code",
   "execution_count": 7,
   "id": "6080fe48-7050-4b22-ad98-4f842722387b",
   "metadata": {},
   "outputs": [
    {
     "name": "stdout",
     "output_type": "stream",
     "text": [
      "{'sentiment': 'negative', 'score': 0.2}\n"
     ]
    }
   ],
   "source": [
    "print(get_sentiment(\"You r a obnoxius person\"))\n"
   ]
  },
  {
   "cell_type": "code",
   "execution_count": 8,
   "id": "d9987f62-a5ed-45d9-9ecc-749371ac8ec1",
   "metadata": {},
   "outputs": [],
   "source": [
    "#USING DSPY\n",
    "from typing import Literal\n",
    "\n",
    "class Emotion(dspy.Signature):\n",
    "    \"\"\"Classify emotion.\"\"\"\n",
    "\n",
    "    sentence: str = dspy.InputField()\n",
    "    sentiment: Literal['sadness', 'joy'] = dspy.OutputField()\n",
    "    score: float = dspy.OutputField()"
   ]
  },
  {
   "cell_type": "code",
   "execution_count": 9,
   "id": "28112783-4909-42fe-bbaf-cd94d2f87191",
   "metadata": {},
   "outputs": [
    {
     "data": {
      "text/plain": [
       "Prediction(\n",
       "    sentiment='sadness',\n",
       "    score=0.7\n",
       ")"
      ]
     },
     "execution_count": 9,
     "metadata": {},
     "output_type": "execute_result"
    }
   ],
   "source": [
    "sentence = \"You r a obnoxius person\"  # from dair-ai/emotion\n",
    "\n",
    "classify = dspy.Predict(Emotion)\n",
    "classify(sentence=sentence)"
   ]
  },
  {
   "cell_type": "code",
   "execution_count": null,
   "id": "4ac5a755-13b9-48ac-a40e-c7cb1dcdcd11",
   "metadata": {},
   "outputs": [],
   "source": []
  },
  {
   "cell_type": "markdown",
   "id": "bc9e7205-b317-4ed1-a673-7ec466c3be25",
   "metadata": {},
   "source": [
    "USE CASE 1 : TIGHT SCOPING  (choose from the given set only)"
   ]
  },
  {
   "cell_type": "code",
   "execution_count": 10,
   "id": "7006768a-acfb-4687-b138-6d9236b02340",
   "metadata": {},
   "outputs": [
    {
     "name": "stdout",
     "output_type": "stream",
     "text": [
      "{'sentiment': 'negative', 'score': 0.1}\n"
     ]
    }
   ],
   "source": [
    "print(get_sentiment(\"What a terrible day it has been..\"))"
   ]
  },
  {
   "cell_type": "code",
   "execution_count": 11,
   "id": "ba3be01d-75f1-43fc-9d2f-d5abf13262e6",
   "metadata": {},
   "outputs": [
    {
     "name": "stdout",
     "output_type": "stream",
     "text": [
      "{'sentiment': 'negative', 'score': 0.2}\n"
     ]
    }
   ],
   "source": [
    "print(get_sentiment(\"I am so alone!!\"))"
   ]
  },
  {
   "cell_type": "code",
   "execution_count": 12,
   "id": "e1227445-bdde-4509-a40d-90e8f97fdbe4",
   "metadata": {},
   "outputs": [
    {
     "name": "stdout",
     "output_type": "stream",
     "text": [
      "{'sentiment': 'positive', 'score': 0.9}\n"
     ]
    }
   ],
   "source": [
    "print(get_sentiment(\"I am on cloud 9\"))"
   ]
  },
  {
   "cell_type": "code",
   "execution_count": null,
   "id": "20973b0b-2bee-4cd2-b851-75fb84e1239d",
   "metadata": {},
   "outputs": [],
   "source": []
  },
  {
   "cell_type": "code",
   "execution_count": 13,
   "id": "4f151c66-5766-4480-882c-93c3ff68a716",
   "metadata": {},
   "outputs": [
    {
     "data": {
      "text/plain": [
       "Prediction(\n",
       "    sentiment='sadness',\n",
       "    score=0.8\n",
       ")"
      ]
     },
     "execution_count": 13,
     "metadata": {},
     "output_type": "execute_result"
    }
   ],
   "source": [
    "sentence = \"What a terrible day it has been..\"  # from dair-ai/emotion\n",
    "\n",
    "classify = dspy.Predict(Emotion)\n",
    "classify(sentence=sentence)"
   ]
  },
  {
   "cell_type": "code",
   "execution_count": 14,
   "id": "ed2fcd52-81a9-4e22-9e44-46c1ccc51d78",
   "metadata": {},
   "outputs": [
    {
     "data": {
      "text/plain": [
       "Prediction(\n",
       "    sentiment='sadness',\n",
       "    score=0.85\n",
       ")"
      ]
     },
     "execution_count": 14,
     "metadata": {},
     "output_type": "execute_result"
    }
   ],
   "source": [
    "sentence = \"I am so alone!!\"  # from dair-ai/emotion\n",
    "\n",
    "classify = dspy.Predict(Emotion)\n",
    "classify(sentence=sentence)"
   ]
  },
  {
   "cell_type": "code",
   "execution_count": 15,
   "id": "f86fbb32-a32b-4084-9e69-202d04be08f9",
   "metadata": {},
   "outputs": [
    {
     "data": {
      "text/plain": [
       "Prediction(\n",
       "    sentiment='joy',\n",
       "    score=0.9\n",
       ")"
      ]
     },
     "execution_count": 15,
     "metadata": {},
     "output_type": "execute_result"
    }
   ],
   "source": [
    "sentence = \"I am on cloud 9\"  # from dair-ai/emotion\n",
    "\n",
    "classify = dspy.Predict(Emotion)\n",
    "classify(sentence=sentence)"
   ]
  },
  {
   "cell_type": "code",
   "execution_count": null,
   "id": "5a9ac287-50f1-4610-91e7-63b4702427d8",
   "metadata": {},
   "outputs": [],
   "source": []
  },
  {
   "cell_type": "markdown",
   "id": "9c1eafcb-5252-47cf-8886-bbca2a703b72",
   "metadata": {},
   "source": [
    "USE CASE 2: ENTITY EXTRACTION\n"
   ]
  },
  {
   "cell_type": "code",
   "execution_count": 16,
   "id": "75a56a5f-2928-4944-9a87-e7d5753ffc7e",
   "metadata": {},
   "outputs": [
    {
     "name": "stdout",
     "output_type": "stream",
     "text": [
      "Apple Inc. Announces iPhone 14\n",
      "['Announcement', 'CEO Statement', 'New Features']\n",
      "[{'name': 'Apple Inc.', 'type': 'Company'}, {'name': 'iPhone 14', 'type': 'Product'}, {'name': 'Tim Cook', 'type': 'Person'}]\n"
     ]
    }
   ],
   "source": [
    "class ExtractInfo(dspy.Signature):\n",
    "    \"\"\"Extract structured information from text.\"\"\"\n",
    "\n",
    "    text: str = dspy.InputField()\n",
    "    title: str = dspy.OutputField()\n",
    "    headings: list[str] = dspy.OutputField()\n",
    "    entities: list[dict[str, str]] = dspy.OutputField(desc=\"a list of entities and their metadata\")\n",
    "\n",
    "module = dspy.Predict(ExtractInfo)\n",
    "\n",
    "text = \"Apple Inc. announced its latest iPhone 14 today.\" \\\n",
    "    \"The CEO, Tim Cook, highlighted its new features in a press release.\"\n",
    "response = module(text=text)\n",
    "\n",
    "print(response.title)\n",
    "print(response.headings)\n",
    "print(response.entities)"
   ]
  },
  {
   "cell_type": "code",
   "execution_count": null,
   "id": "707f4a76-ece5-4f50-9b33-5bc06897f79a",
   "metadata": {},
   "outputs": [],
   "source": []
  },
  {
   "cell_type": "markdown",
   "id": "3fb1c522-a9ff-4395-bb97-77964e1f526d",
   "metadata": {},
   "source": [
    "WITHOUT DSPY, THE CODE WOULD LOOK LIKE THIS"
   ]
  },
  {
   "cell_type": "code",
   "execution_count": 17,
   "id": "802b3e68-9457-4bd9-9a3c-408b41b2e471",
   "metadata": {},
   "outputs": [],
   "source": [
    "import openai\n",
    "\n",
    "\n",
    "\n",
    "def extract_entities_and_types(sentence):\n",
    "    prompt = f\"\"\"\n",
    "    Analyze the following sentence and extract all named entities along with their data types.\n",
    "    Return the result as a list of dictionaries with 'entity' and 'datatype' keys.\n",
    "\n",
    "    Sentence: \"{sentence}\"\n",
    "\n",
    "    Example format:\n",
    "    [\n",
    "        {{ \"entity\": \"John\", \"datatype\": \"string\" }},\n",
    "        {{ \"entity\": \"25\", \"datatype\": \"integer\" }},\n",
    "        {{ \"entity\": \"New York\", \"datatype\": \"location\" }},\n",
    "        {{ \"entity\": \"2023-10-10\", \"datatype\": \"date\" }}\n",
    "    ]\n",
    "    \"\"\"\n",
    "\n",
    "    response = client.chat.completions.create(\n",
    "        model=\"gpt-4o-mini\",\n",
    "        messages=[{\"role\": \"user\", \"content\": prompt}],\n",
    "        temperature=0.2\n",
    "    )\n",
    "\n",
    "    # return response['choices'][0]['message']['content']\n",
    "    return response\n",
    "\n",
    "# Example usage\n",
    "sentence = \"Apple Inc. announced its latest iPhone 14 today. The CEO, Tim Cook, highlighted its new features in a press release\"\n",
    "result = extract_entities_and_types(sentence)     \n"
   ]
  },
  {
   "cell_type": "code",
   "execution_count": null,
   "id": "fae4065d-690e-4f81-85be-9ab1f6a29c1a",
   "metadata": {},
   "outputs": [],
   "source": []
  },
  {
   "cell_type": "code",
   "execution_count": null,
   "id": "5da8f7ab-ef1f-4f74-916e-99a18835421d",
   "metadata": {},
   "outputs": [],
   "source": []
  },
  {
   "cell_type": "markdown",
   "id": "8ecc0c5f-3768-4483-8a1f-a6da44d473a1",
   "metadata": {},
   "source": [
    "USE CASE 3: FAITHFULLNESS CHECK"
   ]
  },
  {
   "cell_type": "code",
   "execution_count": 18,
   "id": "7b04a74c-e008-42e6-8a29-67615069dfe9",
   "metadata": {},
   "outputs": [],
   "source": [
    "class CheckCitationFaithfulness(dspy.Signature):\n",
    "    \"\"\"Verify that the text is based on the provided context.\"\"\"\n",
    "\n",
    "    context: str = dspy.InputField(desc=\"facts here are assumed to be true\")\n",
    "    text: str = dspy.InputField()\n",
    "    faithfulness: bool = dspy.OutputField()\n",
    "    evidence: dict[str, list[str]] = dspy.OutputField(desc=\"Supporting evidence for claims\")\n"
   ]
  },
  {
   "cell_type": "code",
   "execution_count": 19,
   "id": "9427ede6-01f9-4f88-8fa0-fad62d3b5321",
   "metadata": {},
   "outputs": [
    {
     "data": {
      "text/plain": [
       "Prediction(\n",
       "    reasoning='The text claims to follow a healthy routine, but the context describes a diet high in sugar and unhealthy foods, which contradicts the idea of a healthy routine.',\n",
       "    faithfulness=False,\n",
       "    evidence={'diet': ['drank sugar loaded soft drinks', 'creamy pastries', 'dougnuts', 'cheese pasta']}\n",
       ")"
      ]
     },
     "execution_count": 19,
     "metadata": {},
     "output_type": "execute_result"
    }
   ],
   "source": [
    "context=\"In the morning I drank sugar loaded soft drinks, in the lunch creamy pastries, dougnuts and in the night cheese pasta\"\n",
    "text = \"I follow a healthy routine\"\n",
    "\n",
    "faithfulness = dspy.ChainOfThought(CheckCitationFaithfulness)\n",
    "faithfulness(context=context, text=text)"
   ]
  },
  {
   "cell_type": "code",
   "execution_count": 20,
   "id": "129e5c66-9e8d-4389-8042-9ec296c70395",
   "metadata": {},
   "outputs": [
    {
     "data": {
      "text/plain": [
       "Prediction(\n",
       "    reasoning=\"The text claims that the individual is an established scholar, but the context only mentions having a Bachelor's degree and some certificates from online courses, without any indication of being recognized as a scholar. Therefore, the claim in the text is not supported by the context provided.\",\n",
       "    faithfulness=False,\n",
       "    evidence={'degree': ['Bachelors degree'], 'certificates': ['few certificates from Udemy', 'few certificates from Coursera'], 'use of tools': ['use chatgpt to produce thesis']}\n",
       ")"
      ]
     },
     "execution_count": 20,
     "metadata": {},
     "output_type": "execute_result"
    }
   ],
   "source": [
    "context=\"I have Bachelors degree, few certifictas from Udemy and coursera and use chatgpt to produce thesis\"\n",
    "text =\"I am an established scholar\"\n",
    "\n",
    "faithfulness = dspy.ChainOfThought(CheckCitationFaithfulness)\n",
    "faithfulness(context=context, text=text)"
   ]
  },
  {
   "cell_type": "code",
   "execution_count": 21,
   "id": "64cbc99e-551a-46a6-aa4f-ae495818c737",
   "metadata": {},
   "outputs": [
    {
     "data": {
      "text/plain": [
       "Prediction(\n",
       "    reasoning='The text does not provide any evidence or context that supports the claim of being a leader and a deserving manager. The context focuses on the roles of developers and the connection between the client and the developer, without mentioning any managerial roles or leadership qualities.',\n",
       "    faithfulness=False,\n",
       "    evidence={}\n",
       ")"
      ]
     },
     "execution_count": 21,
     "metadata": {},
     "output_type": "execute_result"
    }
   ],
   "source": [
    "context=\"Developers craft the solution, prepare proposal, interact with client, develop and deploy the code. I connect the client with the developer\"\n",
    "text =\"I am leader and a deserving manager in the company\"\n",
    "\n",
    "faithfulness = dspy.ChainOfThought(CheckCitationFaithfulness)\n",
    "faithfulness(context=context, text=text)"
   ]
  },
  {
   "cell_type": "code",
   "execution_count": null,
   "id": "2015612e-818e-4cdf-8cef-fb5514d8046a",
   "metadata": {},
   "outputs": [],
   "source": []
  },
  {
   "cell_type": "markdown",
   "id": "4a42a4af-48f0-4479-a753-552d8b7ecf2f",
   "metadata": {},
   "source": [
    "USE CASE 4: DATA VALIDATION"
   ]
  },
  {
   "cell_type": "code",
   "execution_count": 22,
   "id": "438301ce-b3d5-4684-9ec2-89d613e1a47c",
   "metadata": {},
   "outputs": [],
   "source": [
    "import pydantic\n",
    "from pydantic import BaseModel, StrictFloat\n",
    "\n",
    "class CustomerQuery(pydantic.BaseModel):\n",
    "    name: str\n",
    "    last_purchase: str\n",
    "    sentiment: StrictFloat\n",
    "\n",
    "class Recommendation(pydantic.BaseModel):\n",
    "    product_id: str\n",
    "    confidence: float\n",
    "\n",
    "signature = dspy.Signature(\"customer: CustomerQuery -> recommendation: Recommendation\")\n",
    "recommendation_model = dspy.Predict(signature)\n"
   ]
  },
  {
   "cell_type": "code",
   "execution_count": 23,
   "id": "576c9e4f-6b12-47e6-9a10-85bed00fecaa",
   "metadata": {},
   "outputs": [
    {
     "name": "stdout",
     "output_type": "stream",
     "text": [
      "Full DSPy Result: Prediction(\n",
      "    recommendation=Recommendation(product_id='superfood_spinach_powder', confidence=0.85)\n",
      ")\n",
      "Recommended Product ID: superfood_spinach_powder\n",
      "Confidence: 0.85\n"
     ]
    }
   ],
   "source": [
    "customer_input = CustomerQuery(\n",
    "    name=\"Popeye\",\n",
    "    last_purchase=\"Spinach\",\n",
    "    sentiment=0.7\n",
    ")\n",
    "\n",
    "result = recommendation_model(customer=customer_input)\n",
    "\n",
    "# ----------------------------\n",
    "# 6. Print the structured output\n",
    "# ----------------------------\n",
    "print(\"Full DSPy Result:\", result)\n",
    "print(\"Recommended Product ID:\", result.recommendation.product_id)\n",
    "print(\"Confidence:\", result.recommendation.confidence)"
   ]
  },
  {
   "cell_type": "code",
   "execution_count": 24,
   "id": "20b88963-5245-4903-80c0-12c3c318e11a",
   "metadata": {},
   "outputs": [
    {
     "ename": "ValidationError",
     "evalue": "1 validation error for CustomerQuery\nsentiment\n  Input should be a valid number [type=float_type, input_value='0.8', input_type=str]\n    For further information visit https://errors.pydantic.dev/2.11/v/float_type",
     "output_type": "error",
     "traceback": [
      "\u001b[31m---------------------------------------------------------------------------\u001b[39m",
      "\u001b[31mValidationError\u001b[39m                           Traceback (most recent call last)",
      "\u001b[36mCell\u001b[39m\u001b[36m \u001b[39m\u001b[32mIn[24]\u001b[39m\u001b[32m, line 1\u001b[39m\n\u001b[32m----> \u001b[39m\u001b[32m1\u001b[39m customer_input = \u001b[43mCustomerQuery\u001b[49m\u001b[43m(\u001b[49m\n\u001b[32m      2\u001b[39m \u001b[43m    \u001b[49m\u001b[43mname\u001b[49m\u001b[43m=\u001b[49m\u001b[33;43m\"\u001b[39;49m\u001b[33;43mPopeye\u001b[39;49m\u001b[33;43m\"\u001b[39;49m\u001b[43m,\u001b[49m\n\u001b[32m      3\u001b[39m \u001b[43m    \u001b[49m\u001b[43mlast_purchase\u001b[49m\u001b[43m=\u001b[49m\u001b[33;43m\"\u001b[39;49m\u001b[33;43mSpinach\u001b[39;49m\u001b[33;43m\"\u001b[39;49m\u001b[43m,\u001b[49m\n\u001b[32m      4\u001b[39m \u001b[43m    \u001b[49m\u001b[43msentiment\u001b[49m\u001b[43m=\u001b[49m\u001b[33;43m'\u001b[39;49m\u001b[33;43m0.8\u001b[39;49m\u001b[33;43m'\u001b[39;49m\n\u001b[32m      5\u001b[39m \u001b[43m)\u001b[49m\n\u001b[32m      7\u001b[39m result = recommendation_model(customer=customer_input)\n\u001b[32m      9\u001b[39m \u001b[38;5;66;03m# ----------------------------\u001b[39;00m\n\u001b[32m     10\u001b[39m \u001b[38;5;66;03m# 6. Print the structured output\u001b[39;00m\n\u001b[32m     11\u001b[39m \u001b[38;5;66;03m# ----------------------------\u001b[39;00m\n",
      "\u001b[36mFile \u001b[39m\u001b[32m~/Desktop/AutogenCookBook/venv/lib/python3.12/site-packages/pydantic/main.py:253\u001b[39m, in \u001b[36mBaseModel.__init__\u001b[39m\u001b[34m(self, **data)\u001b[39m\n\u001b[32m    251\u001b[39m \u001b[38;5;66;03m# `__tracebackhide__` tells pytest and some other tools to omit this function from tracebacks\u001b[39;00m\n\u001b[32m    252\u001b[39m __tracebackhide__ = \u001b[38;5;28;01mTrue\u001b[39;00m\n\u001b[32m--> \u001b[39m\u001b[32m253\u001b[39m validated_self = \u001b[38;5;28;43mself\u001b[39;49m\u001b[43m.\u001b[49m\u001b[43m__pydantic_validator__\u001b[49m\u001b[43m.\u001b[49m\u001b[43mvalidate_python\u001b[49m\u001b[43m(\u001b[49m\u001b[43mdata\u001b[49m\u001b[43m,\u001b[49m\u001b[43m \u001b[49m\u001b[43mself_instance\u001b[49m\u001b[43m=\u001b[49m\u001b[38;5;28;43mself\u001b[39;49m\u001b[43m)\u001b[49m\n\u001b[32m    254\u001b[39m \u001b[38;5;28;01mif\u001b[39;00m \u001b[38;5;28mself\u001b[39m \u001b[38;5;129;01mis\u001b[39;00m \u001b[38;5;129;01mnot\u001b[39;00m validated_self:\n\u001b[32m    255\u001b[39m     warnings.warn(\n\u001b[32m    256\u001b[39m         \u001b[33m'\u001b[39m\u001b[33mA custom validator is returning a value other than `self`.\u001b[39m\u001b[38;5;130;01m\\n\u001b[39;00m\u001b[33m'\u001b[39m\n\u001b[32m    257\u001b[39m         \u001b[33m\"\u001b[39m\u001b[33mReturning anything other than `self` from a top level model validator isn\u001b[39m\u001b[33m'\u001b[39m\u001b[33mt supported when validating via `__init__`.\u001b[39m\u001b[38;5;130;01m\\n\u001b[39;00m\u001b[33m\"\u001b[39m\n\u001b[32m    258\u001b[39m         \u001b[33m'\u001b[39m\u001b[33mSee the `model_validator` docs (https://docs.pydantic.dev/latest/concepts/validators/#model-validators) for more details.\u001b[39m\u001b[33m'\u001b[39m,\n\u001b[32m    259\u001b[39m         stacklevel=\u001b[32m2\u001b[39m,\n\u001b[32m    260\u001b[39m     )\n",
      "\u001b[31mValidationError\u001b[39m: 1 validation error for CustomerQuery\nsentiment\n  Input should be a valid number [type=float_type, input_value='0.8', input_type=str]\n    For further information visit https://errors.pydantic.dev/2.11/v/float_type"
     ]
    }
   ],
   "source": [
    "customer_input = CustomerQuery(\n",
    "    name=\"Popeye\",\n",
    "    last_purchase=\"Spinach\",\n",
    "    sentiment='0.8'\n",
    ")\n",
    "\n",
    "result = recommendation_model(customer=customer_input)\n",
    "\n",
    "# ----------------------------\n",
    "# 6. Print the structured output\n",
    "# ----------------------------\n",
    "print(\"Full DSPy Result:\", result)\n",
    "print(\"Recommended Product ID:\", result.recommendation.product_id)\n",
    "print(\"Confidence:\", result.recommendation.confidence)"
   ]
  },
  {
   "cell_type": "markdown",
   "id": "499b46ea-6856-4580-837d-652cd6220fdd",
   "metadata": {},
   "source": [
    "WORDING MATTERS"
   ]
  },
  {
   "cell_type": "code",
   "execution_count": 26,
   "id": "45b09ae5-1030-43c4-bbf2-30a1dc5eb166",
   "metadata": {},
   "outputs": [],
   "source": [
    "import pydantic\n",
    "from pydantic import BaseModel, StrictFloat\n",
    "\n",
    "class CustomerQuery(pydantic.BaseModel):\n",
    "    name: str\n",
    "    item: str\n",
    "    \n",
    "\n",
    "class Recommendation(pydantic.BaseModel):\n",
    "    remarks: str\n",
    "    \n",
    "\n",
    "signature = dspy.Signature(\"customer: CustomerQuery -> recommendation: Recommendation\")\n",
    "recommendation_model = dspy.Predict(signature)\n"
   ]
  },
  {
   "cell_type": "code",
   "execution_count": 29,
   "id": "40e43cc9-837c-4bf3-8899-85c98f13feb9",
   "metadata": {},
   "outputs": [
    {
     "name": "stdout",
     "output_type": "stream",
     "text": [
      "Remarks: The Arkenstone is a precious gem, symbolizing wealth and power. It is recommended to keep it secure and consider its historical significance when making decisions regarding its use or display.\n"
     ]
    }
   ],
   "source": [
    "customer_input = CustomerQuery(\n",
    "    name=\"Thorin\",\n",
    "    item=\"Arkenstone\",\n",
    "    \n",
    "    \n",
    ")\n",
    "\n",
    "result = recommendation_model(customer=customer_input)\n",
    "\n",
    "# ----------------------------\n",
    "# 6. Print the structured output\n",
    "# ----------------------------\n",
    "\n",
    "print(\"Remarks:\", result.recommendation.remarks)"
   ]
  },
  {
   "cell_type": "code",
   "execution_count": 30,
   "id": "d79d4330-dad6-4034-a0fa-4611f9e2533f",
   "metadata": {},
   "outputs": [
    {
     "name": "stdout",
     "output_type": "stream",
     "text": [
      "Remarks: It is highly advised to keep the One Ring hidden and secure, as it possesses immense power and attracts unwanted attention. Consider seeking guidance from trusted allies and possibly exploring ways to destroy it.\n"
     ]
    }
   ],
   "source": [
    "customer_input = CustomerQuery(\n",
    "    name=\"Bilbo Baggins\",\n",
    "    item=\"The one ring\",\n",
    "    \n",
    "    \n",
    ")\n",
    "\n",
    "result = recommendation_model(customer=customer_input)\n",
    "\n",
    "# ----------------------------\n",
    "# 6. Print the structured output\n",
    "# ----------------------------\n",
    "\n",
    "print(\"Remarks:\", result.recommendation.remarks)"
   ]
  },
  {
   "cell_type": "code",
   "execution_count": null,
   "id": "02665708-83af-4184-8ca8-8940e7523926",
   "metadata": {},
   "outputs": [],
   "source": []
  }
 ],
 "metadata": {
  "kernelspec": {
   "display_name": "Python (venv)",
   "language": "python",
   "name": "venv"
  },
  "language_info": {
   "codemirror_mode": {
    "name": "ipython",
    "version": 3
   },
   "file_extension": ".py",
   "mimetype": "text/x-python",
   "name": "python",
   "nbconvert_exporter": "python",
   "pygments_lexer": "ipython3",
   "version": "3.12.3"
  }
 },
 "nbformat": 4,
 "nbformat_minor": 5
}
