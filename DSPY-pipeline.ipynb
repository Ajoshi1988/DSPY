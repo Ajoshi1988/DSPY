{
 "cells": [
  {
   "cell_type": "code",
   "execution_count": 5,
   "id": "39ee5869-b12d-4fd5-af72-2663f7ad3de7",
   "metadata": {},
   "outputs": [],
   "source": [
    "import os\n",
    "import dspy\n"
   ]
  },
  {
   "cell_type": "code",
   "execution_count": 6,
   "id": "386a38b8-852d-429f-b0b1-4c907a06d1c8",
   "metadata": {},
   "outputs": [],
   "source": [
    "import dspy\n",
    "lm = dspy.LM(\"openai/gpt-4o-mini\")\n",
    "dspy.configure(lm=lm)"
   ]
  },
  {
   "cell_type": "code",
   "execution_count": null,
   "id": "6e3b9dad-28ca-4e07-91e8-8653ed1fde44",
   "metadata": {},
   "outputs": [],
   "source": []
  },
  {
   "cell_type": "markdown",
   "id": "dfbad62e-4a5e-4b56-b76d-a4349b80c019",
   "metadata": {},
   "source": [
    "CHECK FOR QUESTION COMPLETENESS"
   ]
  },
  {
   "cell_type": "code",
   "execution_count": 70,
   "id": "fcc2b02e-06bc-41eb-a0e7-0c40a1934655",
   "metadata": {},
   "outputs": [],
   "source": [
    "class CheckQuestionCompleteness(dspy.Signature):\n",
    "    \"\"\"\n",
    "    Determines whether a question is complete and understandable on its own.\n",
    "    A question is considered complete if it meets any of these:\n",
    "    - It contains both a subject (explicit or implied, e.g., 'you', 'they') and an object (what is being asked or acted upon).\n",
    "    - It is a composite question (a single sentence containing multiple understandable sub-questions), where all sub-questions have subjects and objects.\n",
    "    If the question’s meaning is clear, even with an implied subject or multiple sub-questions, mark it as complete.\n",
    "    \"\"\"\n",
    "    question: str = dspy.InputField(desc=\"The question to evaluate for completeness.\")\n",
    "    completeness: bool = dspy.OutputField(desc=\"True if the question is complete, otherwise False.\")\n",
    "    reason: str = dspy.OutputField(desc=\"Brief explanation of why the question is complete or incomplete.\")\n",
    "\n",
    "\n",
    "\n",
    "\n",
    "query_entirety_checker = dspy.Predict(CheckQuestionCompleteness)"
   ]
  },
  {
   "cell_type": "code",
   "execution_count": 71,
   "id": "b6d1cb6c-34f7-477c-bdae-301a53c7621c",
   "metadata": {},
   "outputs": [
    {
     "name": "stdout",
     "output_type": "stream",
     "text": [
      "Question: What is the ?\n",
      "Completeness: False\n",
      "Reason: The question is incomplete because it lacks a subject and an object, making it unclear what is being asked.\n",
      "--------------------------------------------------\n",
      "Question: Is the Tomato Ketchup healthy for Children\n",
      "Completeness: False\n",
      "Reason: The question lacks a clear subject; it does not specify who is asking or imply a subject. While it asks about the healthiness of tomato ketchup for children, it does not provide a complete context or a clear subject performing the action.\n",
      "--------------------------------------------------\n",
      "Question: can you track\n",
      "Completeness: False\n",
      "Reason: The question \"can you track\" is incomplete because it lacks a clear subject and object. It does not specify what is being tracked or who is being asked to track, making it ambiguous and unclear.\n",
      "--------------------------------------------------\n",
      "Question: Do you offer discounts in the festive season\n",
      "Completeness: True\n",
      "Reason: The question is complete because it has an implied subject (\"you\") and a clear object (\"discounts in the festive season\"), making it understandable on its own.\n",
      "--------------------------------------------------\n",
      "Question: Do you sell baby diapers, are any size variations, do you sell them at discounts?\n",
      "Completeness: True\n",
      "Reason: The question is complete because it contains multiple sub-questions that are clear and understandable. Each sub-question has an implied subject (\"you\" referring to the seller) and an object (the specific inquiries about baby diapers, size variations, and discounts).\n",
      "--------------------------------------------------\n"
     ]
    }
   ],
   "source": [
    "questions = [\n",
    "    \"What is the ?\",\n",
    "    \"Is the Tomato Ketchup healthy for Children\",\n",
    "    \"can you track\",\n",
    "    \"Do you offer discounts in the festive season\",\n",
    "    \"Do you sell baby diapers, are any size variations, do you sell them at discounts?\"\n",
    "    \n",
    "]\n",
    "\n",
    "\n",
    "for q in questions:\n",
    "    result = query_entirety_checker(question=q)\n",
    "    print(f\"Question: {q}\")\n",
    "    print(f\"Completeness: {result.completeness}\")\n",
    "    print(f\"Reason: {result.reason}\")\n",
    "    print(\"-\" * 50)"
   ]
  },
  {
   "cell_type": "code",
   "execution_count": null,
   "id": "9815d9a4-84cc-463c-af1c-730f70e540a7",
   "metadata": {},
   "outputs": [],
   "source": []
  },
  {
   "cell_type": "code",
   "execution_count": null,
   "id": "abdea1ef-9f36-4c52-86be-fb6f8d0e884f",
   "metadata": {},
   "outputs": [],
   "source": []
  },
  {
   "cell_type": "markdown",
   "id": "8e2fe1e4-8691-49d3-a8b7-a9a74f627e8c",
   "metadata": {},
   "source": [
    "DECOMPOSE THE QUESTION TO COMPONENT QUESTIONS"
   ]
  },
  {
   "cell_type": "code",
   "execution_count": 47,
   "id": "7f18b1de-e681-4ed7-a2cb-ad02a4cd527c",
   "metadata": {},
   "outputs": [],
   "source": [
    "\n",
    "class BreakCompositeQuestion(dspy.Signature):\n",
    "    \"\"\"\n",
    "    You are a question decomposition expert.\n",
    "    \n",
    "    Your task is to break down complex, multi-part questions into smaller, atomic questions that can be answered independently.\n",
    "    \n",
    "    However, if the input question is already simple, direct, and self-contained — meaning it asks only one thing and does not contain multiple clauses or conjunctions — return it as-is in a single-item list.\n",
    "    \n",
    "    Do not infer or expand the question. Do not add subtext or assumptions. Do not rephrase.\n",
    "    \n",
    "    Examples:\n",
    "    - Input: \"Do you offer discount?\" → Output: [\"Do you offer discount?\"]\n",
    "    - Input: \"What are your prices and do you offer discounts?\" → Output: [\"What are your prices?\", \"Do you offer discounts?\"]\n",
    "    - Input: \"How does the product work?\" → Output: [\"How does the product work?\"]\n",
    "    - Input: \"How does the product work and what are its benefits?\" → Output: [\"How does the product work?\", \"What are its benefits?\"]\n",
    "    \"\"\"\n",
    "    question: str = dspy.InputField(desc=\"The composite question to be broken down.\")\n",
    "    sub_questions: list[str] = dspy.OutputField(desc=\"List of smaller, atomic questions derived from the input.\")\n",
    "\n",
    "\n",
    "\n",
    "breakdown_model = dspy.Predict(BreakCompositeQuestion)\n",
    "\n",
    "\n"
   ]
  },
  {
   "cell_type": "code",
   "execution_count": 48,
   "id": "0ad131dd-3a3e-4656-a7c1-9907e155b493",
   "metadata": {},
   "outputs": [
    {
     "name": "stdout",
     "output_type": "stream",
     "text": [
      "Original Question:\n",
      " Do you sell Atta noodles, is it nutritious, tell me whether it is a refined product or not ?\n",
      "\n",
      "Decomposed Questions:\n",
      "1. Do you sell Atta noodles?\n",
      "2. Is it nutritious?\n",
      "3. Is it a refined product or not?\n"
     ]
    }
   ],
   "source": [
    "\n",
    "composite_question = \"Do you sell Atta noodles, is it nutritious, tell me whether it is a refined product or not ?\"\n",
    "\n",
    "\n",
    "result = breakdown_model(question=composite_question)\n",
    "\n",
    "\n",
    "print(\"Original Question:\\n\", composite_question)\n",
    "print(\"\\nDecomposed Questions:\")\n",
    "for i, q in enumerate(result.sub_questions, start=1):\n",
    "    print(f\"{i}. {q}\")"
   ]
  },
  {
   "cell_type": "code",
   "execution_count": 49,
   "id": "ce066156-488d-43f2-93fd-6e86b708fe00",
   "metadata": {},
   "outputs": [
    {
     "name": "stdout",
     "output_type": "stream",
     "text": [
      "Original Question:\n",
      " Do you offer discounts in festive season?\n",
      "\n",
      "Decomposed Questions:\n",
      "1. Do you offer discounts in festive season?\n"
     ]
    }
   ],
   "source": [
    "\n",
    "composite_question = \"Do you offer discounts in festive season?\"\n",
    "\n",
    "\n",
    "result = breakdown_model(question=composite_question)\n",
    "\n",
    "\n",
    "print(\"Original Question:\\n\", composite_question)\n",
    "print(\"\\nDecomposed Questions:\")\n",
    "for i, q in enumerate(result.sub_questions, start=1):\n",
    "    print(f\"{i}. {q}\")"
   ]
  },
  {
   "cell_type": "markdown",
   "id": "1154c3d5-fa5f-46de-82aa-88949f6fde1e",
   "metadata": {},
   "source": []
  },
  {
   "cell_type": "code",
   "execution_count": null,
   "id": "40bfcef9-d1f0-46ec-8e67-03179232e72f",
   "metadata": {},
   "outputs": [],
   "source": []
  },
  {
   "cell_type": "markdown",
   "id": "36319cc2-48ad-4af7-8cbe-40de585ef850",
   "metadata": {},
   "source": [
    "CHECK WHETHER THE QUESTION IS RELEVANT OR NOT"
   ]
  },
  {
   "cell_type": "code",
   "execution_count": 14,
   "id": "557332bf-c906-4439-ac59-bf59c9ccf008",
   "metadata": {},
   "outputs": [],
   "source": [
    "\n",
    "class CheckEcommerceRelevance(dspy.Signature):\n",
    "    \"\"\"\n",
    "    You are an intelligent assistant that determines whether a question\n",
    "    is relevant to an e-commerce store's domain.\n",
    "\n",
    "    E-commerce relevance includes:\n",
    "    - Products, pricing, reviews, discounts\n",
    "    - Orders, carts, shipping, delivery\n",
    "    - Payments, refunds, account issues\n",
    "    - Customer support, tracking, and loyalty programs\n",
    "\n",
    "    Irrelevant topics include:\n",
    "    - Politics, personal life, unrelated tech, or general knowledge\n",
    "    \"\"\"\n",
    "    question: str = dspy.InputField(desc=\"The user question to evaluate.\")\n",
    "    relevance: bool = dspy.OutputField(desc=\"True if relevant to e-commerce, otherwise False.\")\n",
    "    reason: str = dspy.OutputField(desc=\"Explain briefly why the question is or isn’t relevant.\")\n",
    "\n",
    "\n",
    "ecommerce_relevance_checker = dspy.Predict(CheckEcommerceRelevance)\n",
    "\n",
    "\n"
   ]
  },
  {
   "cell_type": "code",
   "execution_count": 15,
   "id": "6cad0113-2913-4412-98f3-241bc559d3f5",
   "metadata": {},
   "outputs": [
    {
     "name": "stdout",
     "output_type": "stream",
     "text": [
      "Question: What is the refund policy for defective items?\n",
      "Relevance: True\n",
      "Reason: The question is relevant to e-commerce as it pertains to the refund policy, which is a key aspect of customer service and order management in online shopping.\n",
      "--------------------------------------------------\n",
      "Question: Who won the cricket match yesterday?\n",
      "Relevance: False\n",
      "Reason: The question is about a sports event and does not pertain to e-commerce topics such as products, orders, or customer support.\n",
      "--------------------------------------------------\n",
      "Question: Do you have discounts on smartphones?\n",
      "Relevance: True\n",
      "Reason: The question is relevant to e-commerce as it inquires about discounts on a specific product category, which is smartphones. Discounts are a common aspect of e-commerce that customers are interested in.\n",
      "--------------------------------------------------\n",
      "Question: Explain quantum computing in simple terms.\n",
      "Relevance: False\n",
      "Reason: The question about quantum computing is not relevant to e-commerce as it does not pertain to products, services, or issues related to online shopping or transactions.\n",
      "--------------------------------------------------\n",
      "Question: How can I track my order?\n",
      "Relevance: True\n",
      "Reason: The question is relevant to e-commerce as it pertains to tracking an order, which is a common customer inquiry related to shipping and delivery.\n",
      "--------------------------------------------------\n",
      "Question: Who is Finance Minister of India?\n",
      "Relevance: False\n",
      "Reason: The question is about a political figure and does not pertain to e-commerce topics such as products, orders, or customer support.\n",
      "--------------------------------------------------\n"
     ]
    }
   ],
   "source": [
    "questions = [\n",
    "    \"What is the refund policy for defective items?\",\n",
    "    \"Who won the cricket match yesterday?\",\n",
    "    \"Do you have discounts on smartphones?\",\n",
    "    \"Explain quantum computing in simple terms.\",\n",
    "    \"How can I track my order?\",\n",
    "    \"Who is Finance Minister of India?\"\n",
    "]\n",
    "\n",
    "\n",
    "for q in questions:\n",
    "    result = ecommerce_relevance_checker(question=q)\n",
    "    print(f\"Question: {q}\")\n",
    "    print(f\"Relevance: {result.relevance}\")\n",
    "    print(f\"Reason: {result.reason}\")\n",
    "    print(\"-\" * 50)"
   ]
  },
  {
   "cell_type": "code",
   "execution_count": null,
   "id": "99f4804f-c64d-4249-b8a1-6e893349cd24",
   "metadata": {},
   "outputs": [],
   "source": []
  },
  {
   "cell_type": "markdown",
   "id": "19d2d9f7-671e-4b34-91ce-2f91ef27860b",
   "metadata": {},
   "source": [
    "IDENTIFY THE QUERY CATEGORY"
   ]
  },
  {
   "cell_type": "code",
   "execution_count": 17,
   "id": "52832f16-914a-4dce-ac71-f08b4aa7b5cb",
   "metadata": {},
   "outputs": [],
   "source": [
    "class ClassifyEcommerceQuery(dspy.Signature):\n",
    "    \"\"\"\n",
    "    You are an intelligent assistant that classifies a user's question\n",
    "    into specific e-commerce-related categories.\n",
    "\n",
    "    Possible categories include (but are not limited to):\n",
    "    - Product Inquiry: product details, specifications, availability, reviews\n",
    "    - Order Tracking: order status, shipment updates, delivery time\n",
    "    - Return/Refund: product returns, cancellations, refund status\n",
    "    - Payment/Billing: payment issues, discounts, failed transactions\n",
    "    - Account/Support: login issues, account settings, loyalty programs\n",
    "    - General Inquiry: store policies, offers, customer service, etc.\n",
    "\n",
    "    Always choose the category that best matches the user’s intent.\n",
    "    If uncertain, pick the closest relevant category.\n",
    "    \"\"\"\n",
    "    question: str = dspy.InputField(desc=\"The user question to classify.\")\n",
    "    category: str = dspy.OutputField(desc=\"The most relevant e-commerce category for this question.\")\n",
    "    reason: str = dspy.OutputField(desc=\"Briefly explain why the question fits this category.\")\n",
    "\n",
    "ecommerce_query_type = dspy.Predict(ClassifyEcommerceQuery)"
   ]
  },
  {
   "cell_type": "code",
   "execution_count": 19,
   "id": "d05f55d8-94fb-4f69-bb05-66cc38a27741",
   "metadata": {},
   "outputs": [
    {
     "name": "stdout",
     "output_type": "stream",
     "text": [
      "Question: What is the refund policy for defective items?\n",
      "Category: Return/Refund\n",
      "Reason: The question pertains to the policy regarding refunds for defective items, which directly relates to the return and refund process.\n",
      "--------------------------------------------------\n",
      "Question: Do you have discounts on smartphones?\n",
      "Category: General Inquiry\n",
      "Reason: The question is about discounts, which falls under general inquiries regarding store offers and promotions rather than a specific product or transaction issue.\n",
      "--------------------------------------------------\n",
      "Question: How can I track my order?\n",
      "Category: Order Tracking\n",
      "Reason: The question is about tracking an order, which directly relates to checking the status and updates of a shipment.\n",
      "--------------------------------------------------\n"
     ]
    }
   ],
   "source": [
    "questions = [\n",
    "    \"What is the refund policy for defective items?\",\n",
    "    \"Do you have discounts on smartphones?\",\n",
    "    \"How can I track my order?\",\n",
    "    \n",
    "]\n",
    "\n",
    "\n",
    "for q in questions:\n",
    "    result = ecommerce_query_type(question=q)\n",
    "    print(f\"Question: {q}\")\n",
    "    print(f\"Category: {result.category}\")\n",
    "    print(f\"Reason: {result.reason}\")\n",
    "    print(\"-\" * 50)"
   ]
  },
  {
   "cell_type": "markdown",
   "id": "1b7ae963-5749-4586-8efd-3cde0c8777c5",
   "metadata": {},
   "source": []
  },
  {
   "cell_type": "markdown",
   "id": "cf8fd0a6-6f33-4f12-a37c-06a6747bea05",
   "metadata": {},
   "source": [
    "COMPLETE DSPY PIPELINE"
   ]
  },
  {
   "cell_type": "code",
   "execution_count": null,
   "id": "5100ceb7-1f84-47ae-bd84-a10e4b904447",
   "metadata": {},
   "outputs": [],
   "source": []
  },
  {
   "cell_type": "code",
   "execution_count": 72,
   "id": "233b532d-0e70-49ce-91d2-9bf56f2a1604",
   "metadata": {},
   "outputs": [],
   "source": [
    "\n",
    "class EcommercePipeline(dspy.Module):\n",
    "    def __init__(self):\n",
    "        super().__init__()\n",
    "        self.check_completeness = dspy.Predict(CheckQuestionCompleteness)\n",
    "        self.break_question = dspy.Predict(BreakCompositeQuestion)\n",
    "        self.check_relevance = dspy.Predict(CheckEcommerceRelevance)\n",
    "        self.classify_query = dspy.Predict(ClassifyEcommerceQuery)\n",
    "\n",
    "    def forward(self, question: str):\n",
    "        # Step 1: Completeness check\n",
    "        completeness_result = self.check_completeness(question=question)\n",
    "        if not completeness_result.completeness:\n",
    "            return {\n",
    "                \"complete_status\": \"incomplete question\",\n",
    "                \"complete_reason\": completeness_result.reason\n",
    "            }\n",
    "\n",
    "        # Step 2: Break composite question\n",
    "        sub_q_result = self.break_question(question=question)\n",
    "        sub_questions = sub_q_result.sub_questions\n",
    "\n",
    "        results = []\n",
    "        for q in sub_questions:\n",
    "            # Step 3: Relevance check\n",
    "            relevance_result = self.check_relevance(question=q)\n",
    "            if not relevance_result.relevance:\n",
    "                continue\n",
    "\n",
    "            # Step 4: Classification\n",
    "            category_result = self.classify_query(question=q)\n",
    "            results.append({\n",
    "                \"question\": q,\n",
    "                \"category\": category_result.category,\n",
    "                \"category_reason\": category_result.reason\n",
    "            })\n",
    "\n",
    "        if not results:\n",
    "            return {\"status\": \"no_relevant_questions\"}\n",
    "\n",
    "        return {\n",
    "            \"status\": \"success\",\n",
    "            \"processed_questions\": results\n",
    "        }\n",
    "pipeline = EcommercePipeline()"
   ]
  },
  {
   "cell_type": "code",
   "execution_count": 63,
   "id": "dd53e461-dde7-4ef7-a8ac-df0979a24382",
   "metadata": {},
   "outputs": [
    {
     "name": "stdout",
     "output_type": "stream",
     "text": [
      "Complete Status: incomplete question\n",
      "Complete Reason: The question \"What is?\" is incomplete because it lacks a clear subject and object. It does not specify what is being asked about, making it ambiguous and unclear.\n"
     ]
    }
   ],
   "source": [
    "\n",
    "\n",
    "response = pipeline(\"What is?\")\n",
    "print(f\"Complete Status: {response['complete_status']}\")\n",
    "print(f\"Complete Reason: {response['complete_reason']}\")"
   ]
  },
  {
   "cell_type": "code",
   "execution_count": 76,
   "id": "27389f53-9c57-42ee-8fcf-385fb7ab3b0e",
   "metadata": {},
   "outputs": [
    {
     "name": "stdout",
     "output_type": "stream",
     "text": [
      "{'processed_questions': [{'category': 'Product Inquiry',\n",
      "                          'category_reason': 'The question is asking about the '\n",
      "                                             'availability of a specific '\n",
      "                                             'product, which in this case is '\n",
      "                                             'baby diapers. This fits the '\n",
      "                                             'Product Inquiry category as it '\n",
      "                                             'relates to product details.',\n",
      "                          'question': 'Do you sell baby diapers?'},\n",
      "                         {'category': 'Product Inquiry',\n",
      "                          'category_reason': 'The question is asking about '\n",
      "                                             'size variations, which pertains '\n",
      "                                             'to product details and '\n",
      "                                             'specifications.',\n",
      "                          'question': 'Are there any size variations?'},\n",
      "                         {'category': 'General Inquiry',\n",
      "                          'category_reason': 'The question is about discounts, '\n",
      "                                             'which relates to store policies '\n",
      "                                             'and offers, making it a general '\n",
      "                                             'inquiry rather than a specific '\n",
      "                                             'product or order-related '\n",
      "                                             'question.',\n",
      "                          'question': 'Do you sell them at discounts?'}],\n",
      " 'status': 'success'}\n"
     ]
    }
   ],
   "source": [
    "response = pipeline(\"Do you sell baby diapers, are any size variations, do you sell them at discounts?\")\n",
    "pprint.pprint(response)"
   ]
  },
  {
   "cell_type": "code",
   "execution_count": 74,
   "id": "5a5dd5f5-1fc9-4ff5-8650-b43cd0b08f39",
   "metadata": {},
   "outputs": [],
   "source": []
  }
 ],
 "metadata": {
  "kernelspec": {
   "display_name": "Python (venv)",
   "language": "python",
   "name": "venv"
  },
  "language_info": {
   "codemirror_mode": {
    "name": "ipython",
    "version": 3
   },
   "file_extension": ".py",
   "mimetype": "text/x-python",
   "name": "python",
   "nbconvert_exporter": "python",
   "pygments_lexer": "ipython3",
   "version": "3.12.3"
  }
 },
 "nbformat": 4,
 "nbformat_minor": 5
}
